{
 "cells": [
  {
   "cell_type": "markdown",
   "id": "c3813e12-0e8d-40ae-8dd5-0e08f5d6e5a1",
   "metadata": {
    "panel-layout": {
     "height": 60.59375,
     "visible": true,
     "width": 100
    }
   },
   "source": [
    "# Data Exploration"
   ]
  },
  {
   "cell_type": "code",
   "execution_count": null,
   "id": "afb2adb0-602e-44bf-9114-d8349495cc7a",
   "metadata": {},
   "outputs": [],
   "source": [
    "pip install datasets"
   ]
  },
  {
   "cell_type": "code",
   "execution_count": 2,
   "id": "26ecda32-61fc-40d0-bc3e-738cc23da4e9",
   "metadata": {},
   "outputs": [
    {
     "name": "stdout",
     "output_type": "stream",
     "text": [
      "Requirement already satisfied: hf_xet in c:\\users\\charl\\anaconda3\\lib\\site-packages (1.1.7)\n",
      "Note: you may need to restart the kernel to use updated packages.\n"
     ]
    }
   ],
   "source": [
    "pip install hf_xet"
   ]
  },
  {
   "cell_type": "code",
   "execution_count": 49,
   "id": "b6aa03e3-4ba0-4e5f-8b7e-2c9041b48f1a",
   "metadata": {},
   "outputs": [],
   "source": [
    "import numpy as np\n",
    "import pandas as pd\n",
    "import matplotlib.pyplot as plt\n",
    "import seaborn as sns\n",
    "import sklearn"
   ]
  },
  {
   "cell_type": "code",
   "execution_count": 6,
   "id": "95117666-a75f-46dc-be17-3162ba229124",
   "metadata": {},
   "outputs": [],
   "source": [
    "from datasets import load_dataset\n",
    "\n",
    "dataset = load_dataset(\"google/civil_comments\")"
   ]
  },
  {
   "cell_type": "code",
   "execution_count": 5,
   "id": "37bdd51b-fe7d-4163-852b-d32e0fcad315",
   "metadata": {
    "panel-layout": {
     "height": 0,
     "visible": true,
     "width": 100
    }
   },
   "outputs": [
    {
     "name": "stdout",
     "output_type": "stream",
     "text": [
      "DatasetDict({\n",
      "    train: Dataset({\n",
      "        features: ['text', 'toxicity', 'severe_toxicity', 'obscene', 'threat', 'insult', 'identity_attack', 'sexual_explicit'],\n",
      "        num_rows: 1804874\n",
      "    })\n",
      "    validation: Dataset({\n",
      "        features: ['text', 'toxicity', 'severe_toxicity', 'obscene', 'threat', 'insult', 'identity_attack', 'sexual_explicit'],\n",
      "        num_rows: 97320\n",
      "    })\n",
      "    test: Dataset({\n",
      "        features: ['text', 'toxicity', 'severe_toxicity', 'obscene', 'threat', 'insult', 'identity_attack', 'sexual_explicit'],\n",
      "        num_rows: 97320\n",
      "    })\n",
      "})\n"
     ]
    }
   ],
   "source": [
    "print(dataset)"
   ]
  },
  {
   "cell_type": "code",
   "execution_count": 41,
   "id": "b50781c6-95ff-490e-93d3-186bffe90587",
   "metadata": {
    "panel-layout": {
     "height": 0,
     "visible": true,
     "width": 100
    }
   },
   "outputs": [
    {
     "name": "stdout",
     "output_type": "stream",
     "text": [
      "Number of observations in training data: 1804874 \n",
      "\n",
      "Number of observations in test data: 97320 \n",
      "\n",
      "Number of observations in validation data: 97320 \n",
      "\n",
      "Total number of observations: 1999514 \n",
      "\n"
     ]
    }
   ],
   "source": [
    "print(\"Number of observations in training data:\",len(dataset[\"train\"]),\"\\n\")\n",
    "print(\"Number of observations in test data:\",len(dataset[\"test\"]),\"\\n\")\n",
    "print(\"Number of observations in validation data:\", len(dataset[\"validation\"]), \"\\n\")\n",
    "print(\"Total number of observations:\", len(dataset[\"train\"]) + len(dataset[\"test\"]) + len(dataset[\"validation\"]),\"\\n\")"
   ]
  },
  {
   "cell_type": "markdown",
   "id": "d266332b-3c1b-4be8-a9c0-476545da9a7e",
   "metadata": {
    "panel-layout": {
     "height": 51.140625,
     "visible": true,
     "width": 100
    }
   },
   "source": [
    "From the entire dataset, we have a total of __1,999,514__ observations.\n",
    "We will edit our train dataset however"
   ]
  },
  {
   "cell_type": "code",
   "execution_count": 25,
   "id": "759b9253-e097-434a-840f-61fa3c5df28c",
   "metadata": {},
   "outputs": [],
   "source": [
    "df_train = dataset[\"train\"].to_pandas()"
   ]
  },
  {
   "cell_type": "code",
   "execution_count": 52,
   "id": "e1fba004-057b-453b-9639-8a066d7a8d46",
   "metadata": {},
   "outputs": [],
   "source": [
    "features = df_train.columns.tolist()"
   ]
  },
  {
   "cell_type": "code",
   "execution_count": 57,
   "id": "5ac4b72c-6a25-4d5e-aaae-b6a475cfa8d2",
   "metadata": {
    "panel-layout": {
     "height": 0,
     "visible": true,
     "width": 100
    }
   },
   "outputs": [
    {
     "name": "stdout",
     "output_type": "stream",
     "text": [
      "['text', 'toxicity', 'severe_toxicity', 'obscene', 'threat', 'insult', 'identity_attack', 'sexual_explicit'] \n",
      "\n"
     ]
    }
   ],
   "source": [
    "print(features, \"\\n\")"
   ]
  },
  {
   "cell_type": "markdown",
   "id": "0567306e-a4cc-44fc-b74d-7bdb0889cbb7",
   "metadata": {
    "panel-layout": {
     "height": 68.375,
     "visible": true,
     "width": 100
    }
   },
   "source": [
    "### There are a total of __8__ features in this dataset.\n",
    "\n",
    "### text, toxicity, severe_toxicity, obscene, threat, insult, identity_attack, sexual_explicit\n"
   ]
  },
  {
   "cell_type": "code",
   "execution_count": 60,
   "id": "fb8c6be4-7d44-48cf-86f5-0fa118125bfb",
   "metadata": {
    "panel-layout": {
     "height": 1162,
     "visible": true,
     "width": 100
    }
   },
   "outputs": [
    {
     "data": {
      "image/png": "[encoded data removed]",
      "text/plain": [
       "<Figure size 1200x800 with 9 Axes>"
      ]
     },
     "metadata": {},
     "output_type": "display_data"
    }
   ],
   "source": [
    "df_train[features].hist(bins=50, figsize=(12,8))\n",
    "plt.show()"
   ]
  },
  {
   "cell_type": "code",
   "execution_count": 56,
   "id": "26eb0c15-6679-4780-8bba-edb4e6e8cb3e",
   "metadata": {
    "panel-layout": {
     "height": 1416,
     "visible": true,
     "width": 100
    }
   },
   "outputs": [
    {
     "data": {
      "text/html": [
       "<div>\n",
       "<style scoped>\n",
       "    .dataframe tbody tr th:only-of-type {\n",
       "        vertical-align: middle;\n",
       "    }\n",
       "\n",
       "    .dataframe tbody tr th {\n",
       "        vertical-align: top;\n",
       "    }\n",
       "\n",
       "    .dataframe thead th {\n",
       "        text-align: right;\n",
       "    }\n",
       "</style>\n",
       "<table border=\"1\" class=\"dataframe\">\n",
       "  <thead>\n",
       "    <tr style=\"text-align: right;\">\n",
       "      <th></th>\n",
       "      <th>toxicity</th>\n",
       "      <th>severe_toxicity</th>\n",
       "      <th>obscene</th>\n",
       "      <th>threat</th>\n",
       "      <th>insult</th>\n",
       "      <th>identity_attack</th>\n",
       "      <th>sexual_explicit</th>\n",
       "    </tr>\n",
       "  </thead>\n",
       "  <tbody>\n",
       "    <tr>\n",
       "      <th>count</th>\n",
       "      <td>1.804874e+06</td>\n",
       "      <td>1.804874e+06</td>\n",
       "      <td>1.804874e+06</td>\n",
       "      <td>1.804874e+06</td>\n",
       "      <td>1.804874e+06</td>\n",
       "      <td>1.804874e+06</td>\n",
       "      <td>1.804874e+06</td>\n",
       "    </tr>\n",
       "    <tr>\n",
       "      <th>mean</th>\n",
       "      <td>1.030173e-01</td>\n",
       "      <td>4.582100e-03</td>\n",
       "      <td>1.387721e-02</td>\n",
       "      <td>9.311274e-03</td>\n",
       "      <td>8.115274e-02</td>\n",
       "      <td>2.263572e-02</td>\n",
       "      <td>6.605973e-03</td>\n",
       "    </tr>\n",
       "    <tr>\n",
       "      <th>std</th>\n",
       "      <td>1.971960e-01</td>\n",
       "      <td>2.270813e-02</td>\n",
       "      <td>6.410343e-02</td>\n",
       "      <td>4.904731e-02</td>\n",
       "      <td>1.767215e-01</td>\n",
       "      <td>7.920368e-02</td>\n",
       "      <td>4.496850e-02</td>\n",
       "    </tr>\n",
       "    <tr>\n",
       "      <th>min</th>\n",
       "      <td>0.000000e+00</td>\n",
       "      <td>0.000000e+00</td>\n",
       "      <td>0.000000e+00</td>\n",
       "      <td>0.000000e+00</td>\n",
       "      <td>0.000000e+00</td>\n",
       "      <td>0.000000e+00</td>\n",
       "      <td>0.000000e+00</td>\n",
       "    </tr>\n",
       "    <tr>\n",
       "      <th>25%</th>\n",
       "      <td>0.000000e+00</td>\n",
       "      <td>0.000000e+00</td>\n",
       "      <td>0.000000e+00</td>\n",
       "      <td>0.000000e+00</td>\n",
       "      <td>0.000000e+00</td>\n",
       "      <td>0.000000e+00</td>\n",
       "      <td>0.000000e+00</td>\n",
       "    </tr>\n",
       "    <tr>\n",
       "      <th>50%</th>\n",
       "      <td>0.000000e+00</td>\n",
       "      <td>0.000000e+00</td>\n",
       "      <td>0.000000e+00</td>\n",
       "      <td>0.000000e+00</td>\n",
       "      <td>0.000000e+00</td>\n",
       "      <td>0.000000e+00</td>\n",
       "      <td>0.000000e+00</td>\n",
       "    </tr>\n",
       "    <tr>\n",
       "      <th>75%</th>\n",
       "      <td>1.666667e-01</td>\n",
       "      <td>0.000000e+00</td>\n",
       "      <td>0.000000e+00</td>\n",
       "      <td>0.000000e+00</td>\n",
       "      <td>9.090909e-02</td>\n",
       "      <td>0.000000e+00</td>\n",
       "      <td>0.000000e+00</td>\n",
       "    </tr>\n",
       "    <tr>\n",
       "      <th>max</th>\n",
       "      <td>1.000000e+00</td>\n",
       "      <td>1.000000e+00</td>\n",
       "      <td>1.000000e+00</td>\n",
       "      <td>1.000000e+00</td>\n",
       "      <td>1.000000e+00</td>\n",
       "      <td>1.000000e+00</td>\n",
       "      <td>1.000000e+00</td>\n",
       "    </tr>\n",
       "  </tbody>\n",
       "</table>\n",
       "</div>"
      ],
      "text/plain": [
       "           toxicity  severe_toxicity       obscene        threat  \\\n",
       "count  1.804874e+06     1.804874e+06  1.804874e+06  1.804874e+06   \n",
       "mean   1.030173e-01     4.582100e-03  1.387721e-02  9.311274e-03   \n",
       "std    1.971960e-01     2.270813e-02  6.410343e-02  4.904731e-02   \n",
       "min    0.000000e+00     0.000000e+00  0.000000e+00  0.000000e+00   \n",
       "25%    0.000000e+00     0.000000e+00  0.000000e+00  0.000000e+00   \n",
       "50%    0.000000e+00     0.000000e+00  0.000000e+00  0.000000e+00   \n",
       "75%    1.666667e-01     0.000000e+00  0.000000e+00  0.000000e+00   \n",
       "max    1.000000e+00     1.000000e+00  1.000000e+00  1.000000e+00   \n",
       "\n",
       "             insult  identity_attack  sexual_explicit  \n",
       "count  1.804874e+06     1.804874e+06     1.804874e+06  \n",
       "mean   8.115274e-02     2.263572e-02     6.605973e-03  \n",
       "std    1.767215e-01     7.920368e-02     4.496850e-02  \n",
       "min    0.000000e+00     0.000000e+00     0.000000e+00  \n",
       "25%    0.000000e+00     0.000000e+00     0.000000e+00  \n",
       "50%    0.000000e+00     0.000000e+00     0.000000e+00  \n",
       "75%    9.090909e-02     0.000000e+00     0.000000e+00  \n",
       "max    1.000000e+00     1.000000e+00     1.000000e+00  "
      ]
     },
     "execution_count": 56,
     "metadata": {},
     "output_type": "execute_result"
    }
   ],
   "source": [
    "df_train[features].describe()"
   ]
  },
  {
   "cell_type": "code",
   "execution_count": 58,
   "id": "af4d8046-383d-468e-b321-b44706116360",
   "metadata": {
    "panel-layout": {
     "height": 1416,
     "visible": true,
     "width": 100
    }
   },
   "outputs": [
    {
     "data": {
      "text/plain": [
       "text                object\n",
       "toxicity           float32\n",
       "severe_toxicity    float32\n",
       "obscene            float32\n",
       "threat             float32\n",
       "insult             float32\n",
       "identity_attack    float32\n",
       "sexual_explicit    float32\n",
       "dtype: object"
      ]
     },
     "execution_count": 58,
     "metadata": {},
     "output_type": "execute_result"
    }
   ],
   "source": [
    "df_train.dtypes"
   ]
  },
  {
   "cell_type": "markdown",
   "id": "9c57f096-7bdc-47a8-97b8-e5bfdba29007",
   "metadata": {
    "panel-layout": {
     "height": 165.640625,
     "visible": true,
     "width": 100
    }
   },
   "source": [
    "### FEATURE DESCRIPTIONS \n",
    "\n",
    "There is a column labeled _text_ which is of type string. This is the statement which is ranked by the 7 features.\n",
    "\n",
    "The rest of the features are _toxicity_, _severe_toxicity_, _obscene_, _threat_, _insult_, _identity_attack_, _sexual_explicit_\n",
    "\n",
    "These features are all of float type. From the histogram's x values we can see that all the values are between a range from 0 to 1.\n",
    "\n",
    "This means that in each column, the features are assigned a percentage of what people believe that text fits in. "
   ]
  },
  {
   "cell_type": "markdown",
   "id": "16285f5a-85b5-4fff-a6a1-1cf511ba2013",
   "metadata": {
    "panel-layout": {
     "height": 43.203125,
     "visible": true,
     "width": 100
    }
   },
   "source": [
    "#### EXTRACTING NULL FEATURES"
   ]
  },
  {
   "cell_type": "code",
   "execution_count": null,
   "id": "e5e5fecc-9f6c-4823-98d6-4b3e19986803",
   "metadata": {
    "panel-layout": {
     "height": 1416,
     "visible": true,
     "width": 100
    }
   },
   "outputs": [],
   "source": [
    "df_train[features].isnull().sum()"
   ]
  },
  {
   "cell_type": "markdown",
   "id": "124c5f76-3b12-406f-8394-b18d756e5a22",
   "metadata": {},
   "source": [
    "There are no null values "
   ]
  },
  {
   "cell_type": "markdown",
   "id": "b6f13f46-6d31-4169-96c5-7700f13839ea",
   "metadata": {},
   "source": [
    "#### EXTRACTING DUPLICATE FEATURES"
   ]
  },
  {
   "cell_type": "code",
   "execution_count": 68,
   "id": "b128777e-b1cb-4292-a213-52b3f283aaa8",
   "metadata": {},
   "outputs": [
    {
     "data": {
      "text/plain": [
       "17955"
      ]
     },
     "execution_count": 68,
     "metadata": {},
     "output_type": "execute_result"
    }
   ],
   "source": [
    "df_train[features].duplicated().sum()"
   ]
  },
  {
   "cell_type": "markdown",
   "id": "058256cc-33bd-4c29-891f-21cade6e380e",
   "metadata": {},
   "source": [
    "Number of duplicated observations is 17955. We will drop all these duplicates to avoid future issues. "
   ]
  },
  {
   "cell_type": "code",
   "execution_count": 71,
   "id": "c2e64b95-126f-4dfc-ad8f-516f0e2e02dd",
   "metadata": {},
   "outputs": [],
   "source": [
    "df_train = df_train.drop_duplicates(features)"
   ]
  },
  {
   "cell_type": "code",
   "execution_count": 72,
   "id": "05a07de5-9021-4f15-ab38-68890283b17e",
   "metadata": {},
   "outputs": [
    {
     "data": {
      "text/plain": [
       "0"
      ]
     },
     "execution_count": 72,
     "metadata": {},
     "output_type": "execute_result"
    }
   ],
   "source": [
    "df_train[features].duplicated().sum()"
   ]
  },
  {
   "cell_type": "markdown",
   "id": "81e70f62-cab3-40d7-96e7-729871b9ff66",
   "metadata": {},
   "source": [
    "Now the number of duplicated observations is 0"
   ]
  },
  {
   "cell_type": "code",
   "execution_count": null,
   "id": "465f4781-7295-4d6b-a845-faecf5a05d19",
   "metadata": {},
   "outputs": [],
   "source": []
  }
 ],
 "metadata": {
  "kernelspec": {
   "display_name": "Python [conda env:base] *",
   "language": "python",
   "name": "conda-base-py"
  },
  "language_info": {
   "codemirror_mode": {
    "name": "ipython",
    "version": 3
   },
   "file_extension": ".py",
   "mimetype": "text/x-python",
   "name": "python",
   "nbconvert_exporter": "python",
   "pygments_lexer": "ipython3",
   "version": "3.12.7"
  },
  "panel-cell-order": [
   "c3813e12-0e8d-40ae-8dd5-0e08f5d6e5a1",
   "37bdd51b-fe7d-4163-852b-d32e0fcad315",
   "b50781c6-95ff-490e-93d3-186bffe90587",
   "d266332b-3c1b-4be8-a9c0-476545da9a7e",
   "5ac4b72c-6a25-4d5e-aaae-b6a475cfa8d2",
   "0567306e-a4cc-44fc-b74d-7bdb0889cbb7",
   "fb8c6be4-7d44-48cf-86f5-0fa118125bfb",
   "26eb0c15-6679-4780-8bba-edb4e6e8cb3e",
   "af4d8046-383d-468e-b321-b44706116360",
   "9c57f096-7bdc-47a8-97b8-e5bfdba29007",
   "16285f5a-85b5-4fff-a6a1-1cf511ba2013",
   "8492c312-258a-4170-ad09-1574c8071a90"
  ]
 },
 "nbformat": 4,
 "nbformat_minor": 5
}
